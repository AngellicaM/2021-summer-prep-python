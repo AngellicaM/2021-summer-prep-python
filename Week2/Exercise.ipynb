{
 "cells": [
  {
   "cell_type": "markdown",
   "metadata": {},
   "source": [
    "# Problem 1: Write a function thats input is a number and output is:\n",
    "* Return True if the input number is even.\n",
    "* Return False if the input number is odd."
   ]
  },
  {
   "cell_type": "code",
   "execution_count": 3,
   "metadata": {},
   "outputs": [
    {
     "name": "stdout",
     "output_type": "stream",
     "text": [
      "Enter a number: 2\n",
      "The number entered is even\n"
     ]
    }
   ],
   "source": [
    "# Solve problem 1 here\n",
    "\n",
    "#Ask user for input\n",
    "num = int(input(\"Enter a number: \"))\n",
    "\n",
    "#Check if number is even or add, then state it in the output\n",
    "if num%2 == 0:\n",
    "    print(\"The number entered is even\")\n",
    "else:\n",
    "    print(\"The number entered is odd\")"
   ]
  },
  {
   "cell_type": "markdown",
   "metadata": {},
   "source": [
    "# Problem 2: Find the sum and the average of this list of numbers.\n",
    "\n",
    "Try doing this using a loop.  Then try doing this without using a loop. "
   ]
  },
  {
   "cell_type": "code",
   "execution_count": 6,
   "metadata": {},
   "outputs": [
    {
     "name": "stdout",
     "output_type": "stream",
     "text": [
      "353 35.3\n",
      "353 35.3\n"
     ]
    }
   ],
   "source": [
    "# Solve problem 2 here:\n",
    "\n",
    "my_list = [1, 5, 10, 55, 88, 44, 42, 50, 20, 38]\n",
    "\n",
    "#Create a counter\n",
    "sum_list = 0\n",
    "\n",
    "#For loop to find sum and avaerage using counter\n",
    "for n in my_list:\n",
    "    sum_list += n\n",
    "    average_list = sum_list/len(my_list)\n",
    "\n",
    "#Find sum using the sum method\n",
    "list_sum = sum(my_list)\n",
    "\n",
    "#Find average by dividing the sum with the len of the list\n",
    "list_avg = list_sum/len(my_list)\n",
    "\n",
    "\n",
    "# Keep this as your last line in this cell.\n",
    "\n",
    "#Output\n",
    "print(sum_list, average_list)\n",
    "print(list_sum, list_avg)"
   ]
  },
  {
   "cell_type": "markdown",
   "metadata": {},
   "source": [
    "# Problem 3:  Using a dictionary, count the words in this sentence. \n",
    "* Hint, you can use `.split()` to split a string into a list. \n"
   ]
  },
  {
   "cell_type": "code",
   "execution_count": 9,
   "metadata": {},
   "outputs": [
    {
     "name": "stdout",
     "output_type": "stream",
     "text": [
      "The number of words in the sentence is 73\n"
     ]
    }
   ],
   "source": [
    "# Solve problem 3 here:\n",
    "\n",
    "my_string = '''The Oklahoma City Zoo and Botanical Garden is a zoo and botanical garden located in Oklahoma City's Adventure District in northeast Oklahoma City, Oklahoma. The zoo covers 119 acres (48 ha) and is home to more than 1,900 animals. It is open every day except Thanksgiving, Christmas, and New Year's Day. The Oklahoma City Zoo is an accredited member of the Association of Zoos and Aquariums and the American Alliance of Museums.'''\n",
    "\n",
    "#Find the number of words by spliting the string into a list using the split method\n",
    "#Find the length of the list by using the length method\n",
    "num_of_words = len(my_string.split())\n",
    "\n",
    "#Output\n",
    "print(\"The number of words in the sentence is\", num_of_words)\n",
    "    "
   ]
  },
  {
   "cell_type": "markdown",
   "metadata": {},
   "source": [
    "# Problem 4: Write a function that input is a number and output returns the following\n",
    "* If the input is divisible by three, return 'fizz'\n",
    "* If the input is divisible by five, return 'buzz'\n",
    "* If the input is divisible by three and by five, return 'fizzbuzz'\n",
    "* If the input is not divisible by three or five, return None."
   ]
  },
  {
   "cell_type": "code",
   "execution_count": 33,
   "metadata": {},
   "outputs": [
    {
     "name": "stdout",
     "output_type": "stream",
     "text": [
      "Enter a number: 15\n",
      "fizzbuzz\n",
      "fizz\n",
      "buzz\n"
     ]
    }
   ],
   "source": [
    "# Solve Problem 4 here:\n",
    "def number(num):\n",
    "    \n",
    "    #If and else statments to check if number is divisable by 3 or 5, or 3 and 5\n",
    "    if (num%3 == 0 and num%5 == 0):\n",
    "        print('fizzbuzz')\n",
    "    if (num%3 == 0):\n",
    "        print('fizz')\n",
    "    if (num%5 == 0):\n",
    "        print('buzz')\n",
    "    else:\n",
    "        return None\n",
    "\n",
    "#Main function to get user input and to call the number function\n",
    "def main():\n",
    "    num_input = int(input(\"Enter a number: \"))\n",
    "    number(num_input)\n",
    "\n",
    "#Main function call\n",
    "main()"
   ]
  },
  {
   "cell_type": "markdown",
   "metadata": {},
   "source": [
    "# Problem 5: \n",
    "Write a function that takes a list and returns a new list that contains all the elements of the first list minus all the duplicates.\n",
    "\n",
    "Example input and expected output\n",
    "\n",
    "input = [\"Michele\", \"Robin\", \"Sara\", \"Michele\"]\n",
    "\n",
    "expected output = ['Michele', 'Robin', 'Sara']\n"
   ]
  },
  {
   "cell_type": "code",
   "execution_count": 21,
   "metadata": {},
   "outputs": [
    {
     "name": "stdout",
     "output_type": "stream",
     "text": [
      "['Michele', 'Robin', 'Sara']\n"
     ]
    }
   ],
   "source": [
    "# Solve problem 5 here:\n",
    "\n",
    "names = [\"Michele\", \"Robin\", \"Sara\", \"Michele\"]\n",
    "\n",
    "#Change list into a set to eliminate duplicates\n",
    "name = set(names)\n",
    "\n",
    "#Change the set back into a list\n",
    "names = list(name)\n",
    "\n",
    "#Output\n",
    "print(names)"
   ]
  },
  {
   "cell_type": "markdown",
   "metadata": {},
   "source": [
    "# Problem 6: \n",
    "Write a function that takes a list of numbers (for example, a = [5, 10, 15, 20, 25]) and returns a new list of only the first and last elements of the given list.\n",
    "\n",
    "Example input and expected output:\n",
    "\n",
    "input = [5, 10, 15, 20, 25]\n",
    "\n",
    "expected output = [5, 25]"
   ]
  },
  {
   "cell_type": "code",
   "execution_count": 22,
   "metadata": {},
   "outputs": [
    {
     "name": "stdout",
     "output_type": "stream",
     "text": [
      "(5, 25)\n"
     ]
    }
   ],
   "source": [
    "# Solve problem 6 here:\n",
    "\n",
    "input_list = [5, 10, 99, 20, 25]\n",
    "\n",
    "#Create new list that takes the first and last elements of the previous list\n",
    "new_list = input_list[0], input_list[-1]\n",
    "\n",
    "#Output\n",
    "print(new_list)"
   ]
  },
  {
   "cell_type": "markdown",
   "metadata": {},
   "source": [
    "# Problem 7:  Implement a function that takes as input three variables, and returns the largest of the three. \n",
    "Do this without using the Python max() function! \n",
    "_*Note all three input numbers will always be different, no need to account for a tie._\n",
    "\n",
    "Example input and expected output:\n",
    "\n",
    "input = your_function(1, 5, 10)\n",
    "\n",
    "expected output:  10"
   ]
  },
  {
   "cell_type": "code",
   "execution_count": 23,
   "metadata": {},
   "outputs": [],
   "source": [
    "# Solve Problem 7 here:\n",
    "\n",
    "def your_function(a, b, c):\n",
    "    # Fill in your code below and return max value of a, b, c\n",
    "    \n",
    "    #Create a list for the number variables\n",
    "    lsts = [a, b, c]\n",
    "    \n",
    "    #Sort the list in ascending order\n",
    "    lsts.sort()\n",
    "    \n",
    "    #Output the last element, which should be the maxium value after the sort\n",
    "    print(\"The largest number in the list is \", lsts[-1])"
   ]
  },
  {
   "cell_type": "code",
   "execution_count": 26,
   "metadata": {},
   "outputs": [
    {
     "name": "stdout",
     "output_type": "stream",
     "text": [
      "The largest number in the list is  10\n"
     ]
    }
   ],
   "source": [
    "# Test to see if your function works properly.\n",
    "your_function(1, 5, 10)"
   ]
  }
 ],
 "metadata": {
  "kernelspec": {
   "display_name": "Python 3",
   "language": "python",
   "name": "python3"
  },
  "language_info": {
   "codemirror_mode": {
    "name": "ipython",
    "version": 3
   },
   "file_extension": ".py",
   "mimetype": "text/x-python",
   "name": "python",
   "nbconvert_exporter": "python",
   "pygments_lexer": "ipython3",
   "version": "3.8.8"
  }
 },
 "nbformat": 4,
 "nbformat_minor": 4
}
